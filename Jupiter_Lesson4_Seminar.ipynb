{
 "cells": [
  {
   "cell_type": "code",
   "execution_count": 1,
   "id": "8916c27e-728d-4213-8bf9-056b13de0aec",
   "metadata": {},
   "outputs": [],
   "source": [
    "import numpy as np\n",
    "import pandas as pd"
   ]
  },
  {
   "cell_type": "code",
   "execution_count": 2,
   "id": "06576604-f71e-48af-b943-9371bc65b529",
   "metadata": {},
   "outputs": [],
   "source": [
    "import matplotlib.pyplot as plt\n",
    "import seaborn as sns"
   ]
  },
  {
   "cell_type": "code",
   "execution_count": 3,
   "id": "a92226f2-0f3f-48b9-8c6a-c46cd5f546b5",
   "metadata": {},
   "outputs": [],
   "source": [
    "df = pd.read_csv('laptops_10.csv', encoding='cp1251')"
   ]
  },
  {
   "cell_type": "code",
   "execution_count": 4,
   "id": "44324229-5166-4e6d-b7c7-317c29d1f61c",
   "metadata": {},
   "outputs": [
    {
     "data": {
      "text/html": [
       "<div>\n",
       "<style scoped>\n",
       "    .dataframe tbody tr th:only-of-type {\n",
       "        vertical-align: middle;\n",
       "    }\n",
       "\n",
       "    .dataframe tbody tr th {\n",
       "        vertical-align: top;\n",
       "    }\n",
       "\n",
       "    .dataframe thead th {\n",
       "        text-align: right;\n",
       "    }\n",
       "</style>\n",
       "<table border=\"1\" class=\"dataframe\">\n",
       "  <thead>\n",
       "    <tr style=\"text-align: right;\">\n",
       "      <th></th>\n",
       "      <th>Company</th>\n",
       "      <th>Product</th>\n",
       "      <th>TypeName</th>\n",
       "      <th>Inches</th>\n",
       "      <th>Cpu</th>\n",
       "      <th>Ram</th>\n",
       "      <th>Gpu</th>\n",
       "      <th>OpSys</th>\n",
       "      <th>Weight</th>\n",
       "      <th>Price_euros</th>\n",
       "      <th>Cpu_Company</th>\n",
       "      <th>Memory_Amount</th>\n",
       "      <th>Memory_Type</th>\n",
       "    </tr>\n",
       "  </thead>\n",
       "  <tbody>\n",
       "    <tr>\n",
       "      <th>0</th>\n",
       "      <td>Apple</td>\n",
       "      <td>MacBook Pro</td>\n",
       "      <td>Ultrabook</td>\n",
       "      <td>13.3</td>\n",
       "      <td>Intel Core i5 2.3GHz</td>\n",
       "      <td>8GB</td>\n",
       "      <td>Intel Iris Plus Graphics 640</td>\n",
       "      <td>macOS</td>\n",
       "      <td>1.37</td>\n",
       "      <td>1339.69</td>\n",
       "      <td>Intel</td>\n",
       "      <td>128</td>\n",
       "      <td>SSD</td>\n",
       "    </tr>\n",
       "    <tr>\n",
       "      <th>1</th>\n",
       "      <td>Apple</td>\n",
       "      <td>Macbook Air</td>\n",
       "      <td>Ultrabook</td>\n",
       "      <td>13.3</td>\n",
       "      <td>Intel Core i5 1.8GHz</td>\n",
       "      <td>8GB</td>\n",
       "      <td>Intel HD Graphics 6000</td>\n",
       "      <td>macOS</td>\n",
       "      <td>1.34</td>\n",
       "      <td>898.94</td>\n",
       "      <td>Intel</td>\n",
       "      <td>128</td>\n",
       "      <td>FlashStorage</td>\n",
       "    </tr>\n",
       "    <tr>\n",
       "      <th>2</th>\n",
       "      <td>HP</td>\n",
       "      <td>250 G6</td>\n",
       "      <td>Notebook</td>\n",
       "      <td>15.6</td>\n",
       "      <td>Intel Core i5 7200U 2.5GHz</td>\n",
       "      <td>8GB</td>\n",
       "      <td>Intel HD Graphics 620</td>\n",
       "      <td>No OS</td>\n",
       "      <td>1.86</td>\n",
       "      <td>575.00</td>\n",
       "      <td>Intel</td>\n",
       "      <td>256</td>\n",
       "      <td>SSD</td>\n",
       "    </tr>\n",
       "    <tr>\n",
       "      <th>3</th>\n",
       "      <td>Apple</td>\n",
       "      <td>MacBook Pro</td>\n",
       "      <td>Ultrabook</td>\n",
       "      <td>15.4</td>\n",
       "      <td>Intel Core i7 2.7GHz</td>\n",
       "      <td>16GB</td>\n",
       "      <td>AMD Radeon Pro 455</td>\n",
       "      <td>macOS</td>\n",
       "      <td>1.83</td>\n",
       "      <td>2537.45</td>\n",
       "      <td>Intel</td>\n",
       "      <td>512</td>\n",
       "      <td>SSD</td>\n",
       "    </tr>\n",
       "    <tr>\n",
       "      <th>4</th>\n",
       "      <td>Apple</td>\n",
       "      <td>MacBook Pro</td>\n",
       "      <td>Ultrabook</td>\n",
       "      <td>13.3</td>\n",
       "      <td>Intel Core i5 3.1GHz</td>\n",
       "      <td>8GB</td>\n",
       "      <td>Intel Iris Plus Graphics 650</td>\n",
       "      <td>macOS</td>\n",
       "      <td>1.37</td>\n",
       "      <td>1803.60</td>\n",
       "      <td>Intel</td>\n",
       "      <td>256</td>\n",
       "      <td>SSD</td>\n",
       "    </tr>\n",
       "  </tbody>\n",
       "</table>\n",
       "</div>"
      ],
      "text/plain": [
       "  Company      Product   TypeName  Inches                         Cpu   Ram  \\\n",
       "0   Apple  MacBook Pro  Ultrabook    13.3        Intel Core i5 2.3GHz   8GB   \n",
       "1   Apple  Macbook Air  Ultrabook    13.3        Intel Core i5 1.8GHz   8GB   \n",
       "2      HP       250 G6   Notebook    15.6  Intel Core i5 7200U 2.5GHz   8GB   \n",
       "3   Apple  MacBook Pro  Ultrabook    15.4        Intel Core i7 2.7GHz  16GB   \n",
       "4   Apple  MacBook Pro  Ultrabook    13.3        Intel Core i5 3.1GHz   8GB   \n",
       "\n",
       "                            Gpu  OpSys  Weight  Price_euros Cpu_Company  \\\n",
       "0  Intel Iris Plus Graphics 640  macOS    1.37      1339.69       Intel   \n",
       "1        Intel HD Graphics 6000  macOS    1.34       898.94       Intel   \n",
       "2         Intel HD Graphics 620  No OS    1.86       575.00       Intel   \n",
       "3            AMD Radeon Pro 455  macOS    1.83      2537.45       Intel   \n",
       "4  Intel Iris Plus Graphics 650  macOS    1.37      1803.60       Intel   \n",
       "\n",
       "   Memory_Amount   Memory_Type  \n",
       "0            128           SSD  \n",
       "1            128  FlashStorage  \n",
       "2            256           SSD  \n",
       "3            512           SSD  \n",
       "4            256           SSD  "
      ]
     },
     "execution_count": 4,
     "metadata": {},
     "output_type": "execute_result"
    }
   ],
   "source": [
    "df.head()"
   ]
  },
  {
   "cell_type": "markdown",
   "id": "8085ddfb-2f74-4a22-990a-b996cc89e85a",
   "metadata": {},
   "source": [
    "Скачать данные по ссылке https://drive.google.com/file/d/1MpAdHAl727fO3oW32NO4FpSRhUBUfjfS\n",
    "Считать данные с помощью pandas\n",
    "Вывести на экран первые 5 строк\n",
    "1.1 Изучите распределение количества памяти (Memory_Amount) с помощью matplotlib\n",
    "1.2 Изучите распределение стоимости ноутбуков (Price_euros) с помощью matplotlib\n",
    "1.3 Изучите распределение веса ноутбуков (Weight) с помощью matplotlib\n",
    "Постройте график\n",
    "Назовите график\n",
    "Сделайте именование оси x и оси y\n",
    "Сделайте выводы"
   ]
  },
  {
   "cell_type": "code",
   "execution_count": 5,
   "id": "f98345cd-c30d-4943-b039-e9eca4515491",
   "metadata": {},
   "outputs": [
    {
     "data": {
      "text/plain": [
       "Text(0, 0.5, 'Объем памяти')"
      ]
     },
     "execution_count": 5,
     "metadata": {},
     "output_type": "execute_result"
    },
    {
     "data": {
      "image/png": "[encoded data removed]",
      "text/plain": [
       "<Figure size 432x288 with 1 Axes>"
      ]
     },
     "metadata": {
      "needs_background": "light"
     },
     "output_type": "display_data"
    }
   ],
   "source": [
    "plt.hist(df['Memory_Amount'])\n",
    "plt.title('Распределение количества памяти')\n",
    "plt.xlabel('Количество')\n",
    "plt.ylabel('Объем памяти')"
   ]
  },
  {
   "cell_type": "code",
   "execution_count": 9,
   "id": "c83f0d72-77b4-4f01-b3e0-8a5c319a1351",
   "metadata": {},
   "outputs": [
    {
     "data": {
      "image/png": "[encoded data removed]",
      "text/plain": [
       "<Figure size 432x288 with 1 Axes>"
      ]
     },
     "metadata": {
      "needs_background": "light"
     },
     "output_type": "display_data"
    }
   ],
   "source": [
    "plt.hist(df['Price_euros'])\n",
    "plt.title('Распределение стоимости ноутбуков')\n",
    "plt.xlabel('Количество ноутбуков')\n",
    "plt.ylabel('Стоимость ноутбука');"
   ]
  },
  {
   "cell_type": "code",
   "execution_count": 14,
   "id": "744dc9e8-b8ce-42cb-8cf2-b655bdb2f4a3",
   "metadata": {},
   "outputs": [
    {
     "data": {
      "image/png": "[encoded data removed]",
      "text/plain": [
       "<Figure size 432x288 with 1 Axes>"
      ]
     },
     "metadata": {
      "needs_background": "light"
     },
     "output_type": "display_data"
    }
   ],
   "source": [
    "plt.hist(df['Weight'])\n",
    "plt.title('Распределение веса ноутбуков')\n",
    "plt.xlabel('Количество ноутбуков')\n",
    "plt.ylabel('Вес ноутбука');"
   ]
  },
  {
   "cell_type": "markdown",
   "id": "e004161a-4355-428b-ac83-f5bef12acd03",
   "metadata": {},
   "source": [
    "2.1 Изучите распределение типов носителя (Memory_Type)\n",
    "2.2 Изучите распределение компаний производителей (Company)\n",
    "2.3 Изучите распределение операционной системы (OpSys)\n",
    "2.4 Изучите распределение компаний производителей CPU (Cpu_Company)\n",
    "\n",
    "Постройте график\n",
    "Сделайте выводы"
   ]
  },
  {
   "cell_type": "code",
   "execution_count": 16,
   "id": "dd624f99-a207-43c4-8d7b-6998b03f8479",
   "metadata": {},
   "outputs": [
    {
     "data": {
      "image/png": "[encoded data removed]",
      "text/plain": [
       "<Figure size 432x288 with 1 Axes>"
      ]
     },
     "metadata": {
      "needs_background": "light"
     },
     "output_type": "display_data"
    }
   ],
   "source": [
    "plt.hist(df['Memory_Type'])\n",
    "plt.title('Распределение типов носителей')\n",
    "plt.xlabel('Тип')\n",
    "plt.ylabel('Количество');"
   ]
  },
  {
   "cell_type": "code",
   "execution_count": 18,
   "id": "f8a99ce6-b4fc-4f0e-9f28-495ae0a4ebb9",
   "metadata": {},
   "outputs": [
    {
     "data": {
      "text/plain": [
       "SSD             641\n",
       "HDD             576\n",
       "FlashStorage     74\n",
       "Hybrid           12\n",
       "Name: Memory_Type, dtype: int64"
      ]
     },
     "execution_count": 18,
     "metadata": {},
     "output_type": "execute_result"
    }
   ],
   "source": [
    "date = df['Memory_Type'].value_counts()\n",
    "date"
   ]
  },
  {
   "cell_type": "code",
   "execution_count": 25,
   "id": "3290d88b-f6a4-4490-807d-f31c3a2c50d4",
   "metadata": {},
   "outputs": [],
   "source": [
    "names = date.index\n",
    "valus = date.values"
   ]
  },
  {
   "cell_type": "code",
   "execution_count": 30,
   "id": "49d4ebb7-c25c-42af-8a4e-17bc5da1acd4",
   "metadata": {},
   "outputs": [
    {
     "data": {
      "text/plain": [
       "([<matplotlib.patches.Wedge at 0x7f7b192d3d00>,\n",
       "  <matplotlib.patches.Wedge at 0x7f7b192df340>,\n",
       "  <matplotlib.patches.Wedge at 0x7f7b192dfa60>,\n",
       "  <matplotlib.patches.Wedge at 0x7f7b192e91c0>],\n",
       " [Text(0.027844647199021046, 1.099647523355717, 'SSD'),\n",
       "  Text(-0.2536297077638986, -1.0703606734832887, 'HDD'),\n",
       "  Text(1.0694364156344285, -0.25749903478457187, 'FlashStorage'),\n",
       "  Text(1.0995396311060974, -0.031821370603214, 'Hybrid')],\n",
       " [Text(0.015187989381284205, 0.5998077400122093, '49.19%'),\n",
       "  Text(-0.13834347696212648, -0.5838330946272483, '44.21%'),\n",
       "  Text(0.5833289539824155, -0.14045401897340282, '5.68%'),\n",
       "  Text(0.5997488896942349, -0.017357111238116726, '0.92%')])"
      ]
     },
     "execution_count": 30,
     "metadata": {},
     "output_type": "execute_result"
    },
    {
     "data": {
      "image/png": "[encoded data removed]",
      "text/plain": [
       "<Figure size 432x288 with 1 Axes>"
      ]
     },
     "metadata": {},
     "output_type": "display_data"
    }
   ],
   "source": [
    "plt.pie(valus, labels=names, autopct='%.2f%%')"
   ]
  },
  {
   "cell_type": "code",
   "execution_count": 32,
   "id": "df2b76a3-241d-4f11-b950-a4ef3ec2c529",
   "metadata": {},
   "outputs": [
    {
     "data": {
      "text/plain": [
       "Dell         297\n",
       "Lenovo       297\n",
       "HP           274\n",
       "Asus         158\n",
       "Acer         103\n",
       "MSI           54\n",
       "Toshiba       48\n",
       "Apple         21\n",
       "Samsung        9\n",
       "Razer          7\n",
       "Mediacom       7\n",
       "Microsoft      6\n",
       "Xiaomi         4\n",
       "Vero           4\n",
       "Chuwi          3\n",
       "Google         3\n",
       "Fujitsu        3\n",
       "LG             3\n",
       "Huawei         2\n",
       "Name: Company, dtype: int64"
      ]
     },
     "execution_count": 32,
     "metadata": {},
     "output_type": "execute_result"
    }
   ],
   "source": [
    "date = df['Company'].value_counts()\n",
    "date"
   ]
  },
  {
   "cell_type": "code",
   "execution_count": 33,
   "id": "ffc308ec-8afa-4bb3-a593-f5296f514da4",
   "metadata": {},
   "outputs": [],
   "source": [
    "names_2 = date.index\n",
    "valus_2 = date.values"
   ]
  },
  {
   "cell_type": "code",
   "execution_count": 34,
   "id": "38964373-0f20-41b2-94b9-02636abb0e77",
   "metadata": {},
   "outputs": [
    {
     "data": {
      "text/plain": [
       "([<matplotlib.patches.Wedge at 0x7f7b19d67d90>,\n",
       "  <matplotlib.patches.Wedge at 0x7f7b19ed6100>,\n",
       "  <matplotlib.patches.Wedge at 0x7f7b1a09d040>,\n",
       "  <matplotlib.patches.Wedge at 0x7f7b19b53c40>,\n",
       "  <matplotlib.patches.Wedge at 0x7f7b19bc3460>,\n",
       "  <matplotlib.patches.Wedge at 0x7f7b19bfef70>,\n",
       "  <matplotlib.patches.Wedge at 0x7f7b19cf08e0>,\n",
       "  <matplotlib.patches.Wedge at 0x7f7b19e6a1c0>,\n",
       "  <matplotlib.patches.Wedge at 0x7f7b19de8550>,\n",
       "  <matplotlib.patches.Wedge at 0x7f7b1af25100>,\n",
       "  <matplotlib.patches.Wedge at 0x7f7b19d67f70>,\n",
       "  <matplotlib.patches.Wedge at 0x7f7b1b84cfd0>,\n",
       "  <matplotlib.patches.Wedge at 0x7f7b19d5af40>,\n",
       "  <matplotlib.patches.Wedge at 0x7f7b19d5a490>,\n",
       "  <matplotlib.patches.Wedge at 0x7f7b1a2fa7f0>,\n",
       "  <matplotlib.patches.Wedge at 0x7f7b19b431c0>,\n",
       "  <matplotlib.patches.Wedge at 0x7f7b19ff95e0>,\n",
       "  <matplotlib.patches.Wedge at 0x7f7b19b06f10>,\n",
       "  <matplotlib.patches.Wedge at 0x7f7b1a21d7f0>],\n",
       " [Text(0.829822766601291, 0.7220762951587455, 'Dell'),\n",
       "  Text(-0.600473952880243, 0.9216458278060916, 'Lenovo'),\n",
       "  Text(-1.0201559157049263, -0.4114388261360901, 'HP'),\n",
       "  Text(-0.15988660369504512, -1.0883180941061597, 'Asus'),\n",
       "  Text(0.5112858764640984, -0.9739541839985795, 'Acer'),\n",
       "  Text(0.8350239477891138, -0.7160551700942347, 'MSI'),\n",
       "  Text(0.9842272276093483, -0.49121967024175267, 'Toshiba'),\n",
       "  Text(1.0519826264870844, -0.3214538124977452, 'Apple'),\n",
       "  Text(1.0724628575248791, -0.2445882647012548, 'Samsung'),\n",
       "  Text(1.0810980320765913, -0.2030444410470818, 'Razer'),\n",
       "  Text(1.087334592774128, -0.16644363417301697, 'Mediacom'),\n",
       "  Text(1.0920166140255518, -0.1322864871865946, 'Microsoft'),\n",
       "  Text(1.0948884057567883, -0.10592156975497934, 'Xiaomi'),\n",
       "  Text(1.0967276676445268, -0.08478456830695258, 'Vero'),\n",
       "  Text(1.0980023416115576, -0.06626354816591451, 'Chuwi'),\n",
       "  Text(1.0988460056887228, -0.050373165296012164, 'Google'),\n",
       "  Text(1.0994597148645295, -0.034472240861416675, 'Fujitsu'),\n",
       "  Text(1.0998433407083947, -0.01856410243986955, 'LG'),\n",
       "  Text(1.099987211443456, -0.005304211614376014, 'Huawei')],\n",
       " [Text(0.4526305999643404, 0.3938597973593157, '22.79%'),\n",
       "  Text(-0.327531247025587, 0.5027159060760499, '22.79%'),\n",
       "  Text(-0.556448681293596, -0.22442117789241275, '21.03%'),\n",
       "  Text(-0.08721087474275187, -0.5936280513306325, '12.13%'),\n",
       "  Text(0.27888320534405364, -0.5312477367264978, '7.90%'),\n",
       "  Text(0.4554676078849711, -0.39057554732412797, '4.14%'),\n",
       "  Text(0.5368512150596445, -0.26793800195004686, '3.68%'),\n",
       "  Text(0.5738087053565915, -0.17533844318058825, '1.61%'),\n",
       "  Text(0.5849797404681157, -0.13341178074613896, '0.69%'),\n",
       "  Text(0.5896898356781406, -0.11075151329840824, '0.54%'),\n",
       "  Text(0.5930915960586153, -0.09078743682164561, '0.54%'),\n",
       "  Text(0.5956454258321191, -0.0721562657381425, '0.46%'),\n",
       "  Text(0.5972118576855208, -0.05777540168453417, '0.31%'),\n",
       "  Text(0.5982150914424691, -0.04624612816742868, '0.31%'),\n",
       "  Text(0.5989103681517587, -0.036143753545044274, '0.23%'),\n",
       "  Text(0.5993705485574852, -0.027476271979643, '0.23%'),\n",
       "  Text(0.5997052990170161, -0.01880304046986364, '0.23%'),\n",
       "  Text(0.5999145494773062, -0.010125874058110662, '0.23%'),\n",
       "  Text(0.5999930244237032, -0.002893206335114189, '0.15%')])"
      ]
     },
     "execution_count": 34,
     "metadata": {},
     "output_type": "execute_result"
    },
    {
     "data": {
      "image/png": "[encoded data removed]",
      "text/plain": [
       "<Figure size 432x288 with 1 Axes>"
      ]
     },
     "metadata": {},
     "output_type": "display_data"
    }
   ],
   "source": [
    "plt.pie(valus_2, labels=names_2, autopct='%.2f%%')"
   ]
  },
  {
   "cell_type": "code",
   "execution_count": 37,
   "id": "9ebdf046-ff4f-421a-b9c1-2acabc926082",
   "metadata": {},
   "outputs": [
    {
     "data": {
      "image/png": "[encoded data removed]",
      "text/plain": [
       "<Figure size 432x288 with 1 Axes>"
      ]
     },
     "metadata": {
      "needs_background": "light"
     },
     "output_type": "display_data"
    }
   ],
   "source": [
    "plt.bar(df['Company'].value_counts().values, height=df['Company'].value_counts().index);"
   ]
  },
  {
   "cell_type": "code",
   "execution_count": 41,
   "id": "e6050d70-5c6c-47bd-a79e-a44211073f6f",
   "metadata": {},
   "outputs": [
    {
     "data": {
      "image/png": "[encoded data removed]",
      "text/plain": [
       "<Figure size 432x288 with 1 Axes>"
      ]
     },
     "metadata": {
      "needs_background": "light"
     },
     "output_type": "display_data"
    }
   ],
   "source": [
    "plt.bar(df['OpSys'].value_counts().index, height=df['OpSys'].value_counts().values)\n",
    "plt.xticks(rotation=45);"
   ]
  },
  {
   "cell_type": "code",
   "execution_count": 42,
   "id": "2fa7c732-e514-48a8-b6bd-43a11498f92c",
   "metadata": {},
   "outputs": [
    {
     "data": {
      "image/png": "[encoded data removed]",
      "text/plain": [
       "<Figure size 432x288 with 1 Axes>"
      ]
     },
     "metadata": {
      "needs_background": "light"
     },
     "output_type": "display_data"
    }
   ],
   "source": [
    "plt.bar(df['Cpu_Company'].value_counts().index, height=df['Cpu_Company'].value_counts().values)\n",
    "plt.xticks(rotation=45);"
   ]
  },
  {
   "cell_type": "markdown",
   "id": "09d229a7-31f7-4a78-9a40-bd8bc3abb43e",
   "metadata": {},
   "source": [
    "Изучите взаимосвязь компаний производителей ноутбуков и компаний производителей процессоров, используя сложенную или многорядовую столбчатую диаграмму\n",
    "Процессоры от Samsung не изучайте\n",
    "\n",
    "3.1 Постройте график в абсолютных величинах\n",
    "3.2 Постройте график в относительных величинах"
   ]
  },
  {
   "cell_type": "code",
   "execution_count": 43,
   "id": "8afe635d-bbef-4c83-90a0-983440583ae5",
   "metadata": {},
   "outputs": [
    {
     "data": {
      "text/html": [
       "<div>\n",
       "<style scoped>\n",
       "    .dataframe tbody tr th:only-of-type {\n",
       "        vertical-align: middle;\n",
       "    }\n",
       "\n",
       "    .dataframe tbody tr th {\n",
       "        vertical-align: top;\n",
       "    }\n",
       "\n",
       "    .dataframe thead th {\n",
       "        text-align: right;\n",
       "    }\n",
       "</style>\n",
       "<table border=\"1\" class=\"dataframe\">\n",
       "  <thead>\n",
       "    <tr style=\"text-align: right;\">\n",
       "      <th></th>\n",
       "      <th>Company</th>\n",
       "      <th>Product</th>\n",
       "      <th>TypeName</th>\n",
       "      <th>Inches</th>\n",
       "      <th>Cpu</th>\n",
       "      <th>Ram</th>\n",
       "      <th>Gpu</th>\n",
       "      <th>OpSys</th>\n",
       "      <th>Weight</th>\n",
       "      <th>Price_euros</th>\n",
       "      <th>Cpu_Company</th>\n",
       "      <th>Memory_Amount</th>\n",
       "      <th>Memory_Type</th>\n",
       "    </tr>\n",
       "  </thead>\n",
       "  <tbody>\n",
       "    <tr>\n",
       "      <th>1191</th>\n",
       "      <td>Samsung</td>\n",
       "      <td>Chromebook Plus</td>\n",
       "      <td>2 in 1 Convertible</td>\n",
       "      <td>12.3</td>\n",
       "      <td>Samsung Cortex A72&amp;A53 2.0GHz</td>\n",
       "      <td>4GB</td>\n",
       "      <td>ARM Mali T860 MP4</td>\n",
       "      <td>Chrome OS</td>\n",
       "      <td>1.15</td>\n",
       "      <td>659.0</td>\n",
       "      <td>Samsung</td>\n",
       "      <td>32</td>\n",
       "      <td>FlashStorage</td>\n",
       "    </tr>\n",
       "  </tbody>\n",
       "</table>\n",
       "</div>"
      ],
      "text/plain": [
       "      Company          Product            TypeName  Inches  \\\n",
       "1191  Samsung  Chromebook Plus  2 in 1 Convertible    12.3   \n",
       "\n",
       "                                Cpu  Ram                Gpu      OpSys  \\\n",
       "1191  Samsung Cortex A72&A53 2.0GHz  4GB  ARM Mali T860 MP4  Chrome OS   \n",
       "\n",
       "      Weight  Price_euros Cpu_Company  Memory_Amount   Memory_Type  \n",
       "1191    1.15        659.0     Samsung             32  FlashStorage  "
      ]
     },
     "execution_count": 43,
     "metadata": {},
     "output_type": "execute_result"
    }
   ],
   "source": [
    "df[df['Cpu_Company'] == 'Samsung']"
   ]
  },
  {
   "cell_type": "code",
   "execution_count": 53,
   "id": "694785c2-de19-4cc7-98a8-aaed077dc086",
   "metadata": {},
   "outputs": [
    {
     "data": {
      "text/html": [
       "<div>\n",
       "<style scoped>\n",
       "    .dataframe tbody tr th:only-of-type {\n",
       "        vertical-align: middle;\n",
       "    }\n",
       "\n",
       "    .dataframe tbody tr th {\n",
       "        vertical-align: top;\n",
       "    }\n",
       "\n",
       "    .dataframe thead th {\n",
       "        text-align: right;\n",
       "    }\n",
       "</style>\n",
       "<table border=\"1\" class=\"dataframe\">\n",
       "  <thead>\n",
       "    <tr style=\"text-align: right;\">\n",
       "      <th>Cpu_Company</th>\n",
       "      <th>AMD</th>\n",
       "      <th>Intel</th>\n",
       "      <th>Samsung</th>\n",
       "    </tr>\n",
       "    <tr>\n",
       "      <th>Company</th>\n",
       "      <th></th>\n",
       "      <th></th>\n",
       "      <th></th>\n",
       "    </tr>\n",
       "  </thead>\n",
       "  <tbody>\n",
       "    <tr>\n",
       "      <th>Acer</th>\n",
       "      <td>0.097087</td>\n",
       "      <td>0.902913</td>\n",
       "      <td>0.000000</td>\n",
       "    </tr>\n",
       "    <tr>\n",
       "      <th>Apple</th>\n",
       "      <td>0.000000</td>\n",
       "      <td>1.000000</td>\n",
       "      <td>0.000000</td>\n",
       "    </tr>\n",
       "    <tr>\n",
       "      <th>Asus</th>\n",
       "      <td>0.069620</td>\n",
       "      <td>0.930380</td>\n",
       "      <td>0.000000</td>\n",
       "    </tr>\n",
       "    <tr>\n",
       "      <th>Chuwi</th>\n",
       "      <td>0.000000</td>\n",
       "      <td>1.000000</td>\n",
       "      <td>0.000000</td>\n",
       "    </tr>\n",
       "    <tr>\n",
       "      <th>Dell</th>\n",
       "      <td>0.000000</td>\n",
       "      <td>1.000000</td>\n",
       "      <td>0.000000</td>\n",
       "    </tr>\n",
       "    <tr>\n",
       "      <th>Fujitsu</th>\n",
       "      <td>0.000000</td>\n",
       "      <td>1.000000</td>\n",
       "      <td>0.000000</td>\n",
       "    </tr>\n",
       "    <tr>\n",
       "      <th>Google</th>\n",
       "      <td>0.000000</td>\n",
       "      <td>1.000000</td>\n",
       "      <td>0.000000</td>\n",
       "    </tr>\n",
       "    <tr>\n",
       "      <th>HP</th>\n",
       "      <td>0.091241</td>\n",
       "      <td>0.908759</td>\n",
       "      <td>0.000000</td>\n",
       "    </tr>\n",
       "    <tr>\n",
       "      <th>Huawei</th>\n",
       "      <td>0.000000</td>\n",
       "      <td>1.000000</td>\n",
       "      <td>0.000000</td>\n",
       "    </tr>\n",
       "    <tr>\n",
       "      <th>LG</th>\n",
       "      <td>0.000000</td>\n",
       "      <td>1.000000</td>\n",
       "      <td>0.000000</td>\n",
       "    </tr>\n",
       "    <tr>\n",
       "      <th>Lenovo</th>\n",
       "      <td>0.053872</td>\n",
       "      <td>0.946128</td>\n",
       "      <td>0.000000</td>\n",
       "    </tr>\n",
       "    <tr>\n",
       "      <th>MSI</th>\n",
       "      <td>0.000000</td>\n",
       "      <td>1.000000</td>\n",
       "      <td>0.000000</td>\n",
       "    </tr>\n",
       "    <tr>\n",
       "      <th>Mediacom</th>\n",
       "      <td>0.000000</td>\n",
       "      <td>1.000000</td>\n",
       "      <td>0.000000</td>\n",
       "    </tr>\n",
       "    <tr>\n",
       "      <th>Microsoft</th>\n",
       "      <td>0.000000</td>\n",
       "      <td>1.000000</td>\n",
       "      <td>0.000000</td>\n",
       "    </tr>\n",
       "    <tr>\n",
       "      <th>Razer</th>\n",
       "      <td>0.000000</td>\n",
       "      <td>1.000000</td>\n",
       "      <td>0.000000</td>\n",
       "    </tr>\n",
       "    <tr>\n",
       "      <th>Samsung</th>\n",
       "      <td>0.000000</td>\n",
       "      <td>0.888889</td>\n",
       "      <td>0.111111</td>\n",
       "    </tr>\n",
       "    <tr>\n",
       "      <th>Toshiba</th>\n",
       "      <td>0.000000</td>\n",
       "      <td>1.000000</td>\n",
       "      <td>0.000000</td>\n",
       "    </tr>\n",
       "    <tr>\n",
       "      <th>Vero</th>\n",
       "      <td>0.000000</td>\n",
       "      <td>1.000000</td>\n",
       "      <td>0.000000</td>\n",
       "    </tr>\n",
       "    <tr>\n",
       "      <th>Xiaomi</th>\n",
       "      <td>0.000000</td>\n",
       "      <td>1.000000</td>\n",
       "      <td>0.000000</td>\n",
       "    </tr>\n",
       "  </tbody>\n",
       "</table>\n",
       "</div>"
      ],
      "text/plain": [
       "Cpu_Company       AMD     Intel   Samsung\n",
       "Company                                  \n",
       "Acer         0.097087  0.902913  0.000000\n",
       "Apple        0.000000  1.000000  0.000000\n",
       "Asus         0.069620  0.930380  0.000000\n",
       "Chuwi        0.000000  1.000000  0.000000\n",
       "Dell         0.000000  1.000000  0.000000\n",
       "Fujitsu      0.000000  1.000000  0.000000\n",
       "Google       0.000000  1.000000  0.000000\n",
       "HP           0.091241  0.908759  0.000000\n",
       "Huawei       0.000000  1.000000  0.000000\n",
       "LG           0.000000  1.000000  0.000000\n",
       "Lenovo       0.053872  0.946128  0.000000\n",
       "MSI          0.000000  1.000000  0.000000\n",
       "Mediacom     0.000000  1.000000  0.000000\n",
       "Microsoft    0.000000  1.000000  0.000000\n",
       "Razer        0.000000  1.000000  0.000000\n",
       "Samsung      0.000000  0.888889  0.111111\n",
       "Toshiba      0.000000  1.000000  0.000000\n",
       "Vero         0.000000  1.000000  0.000000\n",
       "Xiaomi       0.000000  1.000000  0.000000"
      ]
     },
     "execution_count": 53,
     "metadata": {},
     "output_type": "execute_result"
    }
   ],
   "source": [
    "da = pd.crosstab(index=df['Company'], columns=df['Cpu_Company'], normalize='index')\n",
    "da"
   ]
  },
  {
   "cell_type": "code",
   "execution_count": 60,
   "id": "5ee28360-e7bc-4ebb-a2e4-c882240f605b",
   "metadata": {},
   "outputs": [],
   "source": [
    "# plt.figure(figsize=(8, 6))\n",
    "# ticks = np.arange(len(da['AMD']))\n",
    "# x = 0.2\n",
    "# y = 0.4\n",
    "# plt.bar(da['Company'], da['AMD'])\n",
    "# plt.bar(da['Company'], da['Intel'], bottom=da['AMD'])"
   ]
  },
  {
   "cell_type": "code",
   "execution_count": 61,
   "id": "a72cd00d-5240-460f-90a4-4b4e760759b9",
   "metadata": {},
   "outputs": [],
   "source": [
    "# da = pd.crosstab(index=df['Company'], columns=df['Cpu_Company'], normalize='index').reset_index()\n",
    "# da"
   ]
  },
  {
   "cell_type": "code",
   "execution_count": 62,
   "id": "67e90deb-6e1e-4492-9887-6650488bb7bf",
   "metadata": {},
   "outputs": [
    {
     "data": {
      "image/png": "[encoded data removed]",
      "text/plain": [
       "<Figure size 576x432 with 1 Axes>"
      ]
     },
     "metadata": {
      "needs_background": "light"
     },
     "output_type": "display_data"
    }
   ],
   "source": [
    "plt.figure(figsize=(8, 6))\n",
    "ticks = np.arange(len(da['AMD']))\n",
    "x = 0.2\n",
    "y = 0.4\n",
    "plt.bar(da['Company'], da['AMD'])\n",
    "plt.bar(da['Company'], da['Intel'], bottom=da['AMD'])\n",
    "plt.legend(['AMD', 'Intel'])\n",
    "plt.xticks(rotation=45);"
   ]
  },
  {
   "cell_type": "code",
   "execution_count": null,
   "id": "b2c352cd-ab6c-404f-9fff-789fc9d94b4a",
   "metadata": {},
   "outputs": [],
   "source": []
  }
 ],
 "metadata": {
  "kernelspec": {
   "display_name": "anaconda-2022.05-py39",
   "language": "python",
   "name": "conda-env-anaconda-2022.05-py39-py"
  },
  "language_info": {
   "codemirror_mode": {
    "name": "ipython",
    "version": 3
   },
   "file_extension": ".py",
   "mimetype": "text/x-python",
   "name": "python",
   "nbconvert_exporter": "python",
   "pygments_lexer": "ipython3",
   "version": "3.9.12"
  }
 },
 "nbformat": 4,
 "nbformat_minor": 5
}
